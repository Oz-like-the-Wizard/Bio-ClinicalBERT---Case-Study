{
 "cells": [
  {
   "attachments": {},
   "cell_type": "markdown",
   "metadata": {},
   "source": [
    "### Bio ClinicalBERT - Case Study\n",
    "\n",
    "\n",
    "#### Objective:\n",
    "To generate an end to end reproducible research workflow of classifying sentences into ICD codes, demonstrating a quick exploration process to create a basic working model.\n",
    "\n"
   ]
  },
  {
   "cell_type": "code",
   "execution_count": 2,
   "metadata": {},
   "outputs": [],
   "source": [
    "import pandas as pd\n",
    "import numpy as np\n",
    "import regex as re\n",
    "import pickle\n",
    "\n",
    "import seaborn as sns\n",
    "import matplotlib.pyplot as plt\n",
    "\n",
    "from sklearn.model_selection import train_test_split\n",
    "from sklearn.preprocessing import OneHotEncoder\n",
    "from sklearn.metrics import classification_report\n",
    "from sklearn.metrics import RocCurveDisplay\n",
    "\n",
    "import tensorflow as tf\n",
    "from tensorflow.keras.optimizers import Adam\n",
    "from tensorflow.keras.callbacks import EarlyStopping\n",
    "from tensorflow.keras.initializers import TruncatedNormal\n",
    "from tensorflow.keras.losses import CategoricalCrossentropy\n",
    "from tensorflow.keras.metrics import CategoricalAccuracy\n",
    "from tensorflow.keras.utils import to_categorical\n",
    "from tensorflow.keras.layers import Input, Dense\n"
   ]
  },
  {
   "attachments": {},
   "cell_type": "markdown",
   "metadata": {},
   "source": [
    "As the Bio ClinicalBERT uses Torch, will use the TFAutomodel & \"from_pt\" argument to convert the model to TensorFlow."
   ]
  },
  {
   "cell_type": "code",
   "execution_count": 3,
   "metadata": {},
   "outputs": [
    {
     "name": "stderr",
     "output_type": "stream",
     "text": [
      "Some weights of the PyTorch model were not used when initializing the TF 2.0 model TFBertModel: ['cls.predictions.transform.dense.weight', 'cls.predictions.transform.LayerNorm.bias', 'cls.predictions.decoder.weight', 'cls.predictions.transform.dense.bias', 'cls.predictions.bias', 'cls.seq_relationship.weight', 'cls.predictions.transform.LayerNorm.weight', 'cls.seq_relationship.bias']\n",
      "- This IS expected if you are initializing TFBertModel from a PyTorch model trained on another task or with another architecture (e.g. initializing a TFBertForSequenceClassification model from a BertForPreTraining model).\n",
      "- This IS NOT expected if you are initializing TFBertModel from a PyTorch model that you expect to be exactly identical (e.g. initializing a TFBertForSequenceClassification model from a BertForSequenceClassification model).\n",
      "All the weights of TFBertModel were initialized from the PyTorch model.\n",
      "If your task is similar to the task the model of the checkpoint was trained on, you can already use TFBertModel for predictions without further training.\n"
     ]
    }
   ],
   "source": [
    "# Initializing the tokenizer & model as instructed in Hugging Face - TensorFlow:\n",
    "\n",
    "from transformers import AutoTokenizer, TFAutoModel\n",
    "tokenizer = AutoTokenizer.from_pretrained(\"emilyalsentzer/Bio_ClinicalBERT\")\n",
    "model_tf = TFAutoModel.from_pretrained(\"emilyalsentzer/Bio_ClinicalBERT\", from_pt=True)"
   ]
  },
  {
   "attachments": {},
   "cell_type": "markdown",
   "metadata": {},
   "source": [
    "### Part 1 : Data Loading"
   ]
  },
  {
   "cell_type": "code",
   "execution_count": 3,
   "metadata": {},
   "outputs": [],
   "source": [
    "mimic_df = pd.read_excel(\"MIMIC.xlsx\")"
   ]
  },
  {
   "cell_type": "code",
   "execution_count": 4,
   "metadata": {},
   "outputs": [
    {
     "name": "stdout",
     "output_type": "stream",
     "text": [
      "<class 'pandas.core.frame.DataFrame'>\n",
      "RangeIndex: 81027 entries, 0 to 81026\n",
      "Data columns (total 2 columns):\n",
      " #   Column    Non-Null Count  Dtype \n",
      "---  ------    --------------  ----- \n",
      " 0   sentence  81027 non-null  object\n",
      " 1   code      81027 non-null  object\n",
      "dtypes: object(2)\n",
      "memory usage: 1.2+ MB\n"
     ]
    }
   ],
   "source": [
    "mimic_df.info()"
   ]
  },
  {
   "cell_type": "code",
   "execution_count": 5,
   "metadata": {},
   "outputs": [
    {
     "data": {
      "text/html": [
       "<div>\n",
       "<style scoped>\n",
       "    .dataframe tbody tr th:only-of-type {\n",
       "        vertical-align: middle;\n",
       "    }\n",
       "\n",
       "    .dataframe tbody tr th {\n",
       "        vertical-align: top;\n",
       "    }\n",
       "\n",
       "    .dataframe thead th {\n",
       "        text-align: right;\n",
       "    }\n",
       "</style>\n",
       "<table border=\"1\" class=\"dataframe\">\n",
       "  <thead>\n",
       "    <tr style=\"text-align: right;\">\n",
       "      <th></th>\n",
       "      <th>sentence</th>\n",
       "      <th>code</th>\n",
       "    </tr>\n",
       "  </thead>\n",
       "  <tbody>\n",
       "    <tr>\n",
       "      <th>0</th>\n",
       "      <td>pt transferred to [**hospital unit name 4**] c...</td>\n",
       "      <td>J80</td>\n",
       "    </tr>\n",
       "    <tr>\n",
       "      <th>1</th>\n",
       "      <td>chb d/t hypothyroidism--pt with recent hx of n...</td>\n",
       "      <td>E039</td>\n",
       "    </tr>\n",
       "    <tr>\n",
       "      <th>2</th>\n",
       "      <td>the patient is a 67-year-old female with a his...</td>\n",
       "      <td>I4891</td>\n",
       "    </tr>\n",
       "    <tr>\n",
       "      <th>3</th>\n",
       "      <td>rca, htn, gerd, left knee replacement, bipolar...</td>\n",
       "      <td>F319</td>\n",
       "    </tr>\n",
       "    <tr>\n",
       "      <th>4</th>\n",
       "      <td>chronic obstructive pulmonary disease diabetes...</td>\n",
       "      <td>E119</td>\n",
       "    </tr>\n",
       "  </tbody>\n",
       "</table>\n",
       "</div>"
      ],
      "text/plain": [
       "                                            sentence   code\n",
       "0  pt transferred to [**hospital unit name 4**] c...    J80\n",
       "1  chb d/t hypothyroidism--pt with recent hx of n...   E039\n",
       "2  the patient is a 67-year-old female with a his...  I4891\n",
       "3  rca, htn, gerd, left knee replacement, bipolar...   F319\n",
       "4  chronic obstructive pulmonary disease diabetes...   E119"
      ]
     },
     "execution_count": 5,
     "metadata": {},
     "output_type": "execute_result"
    }
   ],
   "source": [
    "mimic_df.head()"
   ]
  },
  {
   "attachments": {},
   "cell_type": "markdown",
   "metadata": {},
   "source": [
    "It is seen that the dataset only contains 2 columns without any missing values. \"sentence\" contains the feature text whereas \"code\" is the target variable.\n",
    "\n",
    "As there are no missing values & empty columns, no data cleaning is necessary."
   ]
  },
  {
   "attachments": {},
   "cell_type": "markdown",
   "metadata": {},
   "source": [
    "### Part 1: Data Preprocessing & EDA"
   ]
  },
  {
   "attachments": {},
   "cell_type": "markdown",
   "metadata": {},
   "source": [
    "#### 1.1 - Target Variable:\n",
    "\n",
    "As it is the simpler of the two, will start by looking at the target variable in more detail:"
   ]
  },
  {
   "cell_type": "code",
   "execution_count": 6,
   "metadata": {},
   "outputs": [
    {
     "data": {
      "text/plain": [
       "50"
      ]
     },
     "execution_count": 6,
     "metadata": {},
     "output_type": "execute_result"
    }
   ],
   "source": [
    "# Number of output labels:\n",
    "mimic_df.code.nunique()"
   ]
  },
  {
   "cell_type": "code",
   "execution_count": 8,
   "metadata": {},
   "outputs": [
    {
     "data": {
      "image/png": "[encoded data removed]",
      "text/plain": [
       "<Figure size 360x720 with 1 Axes>"
      ]
     },
     "metadata": {
      "needs_background": "light"
     },
     "output_type": "display_data"
    }
   ],
   "source": [
    "g= sns.catplot(\n",
    "    data=mimic_df, y='code', kind='count', height=10, aspect= .5,\n",
    "    order = mimic_df.code.value_counts(ascending=False).index\n",
    ")\n",
    "g.set_xlabels(\"Count\", fontsize=12)\n",
    "g.set_ylabels(\"Code\", fontsize=12)\n",
    "g.set_xticklabels(fontsize=10)\n",
    "g.set_yticklabels(fontsize=10)\n",
    "g.despine(left=True, bottom=True)\n",
    "\n",
    "plt.show()"
   ]
  },
  {
   "attachments": {},
   "cell_type": "markdown",
   "metadata": {},
   "source": [
    "We can see that there are 50 different ICD codes, but they are represented unevenly in the dataset. Checking the most common I469 code, it is for cardiac arrest followed by hypercholesterolemia.  "
   ]
  },
  {
   "attachments": {},
   "cell_type": "markdown",
   "metadata": {},
   "source": [
    "#### 1.2 - sentence\n",
    "\n",
    "We need to preprocess the raw text data given to be able to use it with the BERT model. To do this, we can create a simple preprocessing function.\n",
    "\n",
    "Here I decided to remove any in brackets phrases as my initial analysis showed that they mostly contained [MASKED] personal or location information."
   ]
  },
  {
   "cell_type": "code",
   "execution_count": 28,
   "metadata": {},
   "outputs": [],
   "source": [
    "# Simple Preprocessing:\n",
    "def prep_simple(pdf_read):\n",
    "    # Remove multiple spacings:\n",
    "    pdf_modified = re.sub(' +', ' ', pdf_read)\n",
    "    # Lowercase all:\n",
    "    pdf_modified = pdf_modified.lower()\n",
    "    # Remove line breaks:\n",
    "    pdf_modified = pdf_modified.replace(\"\\n\",\" \")\n",
    "    # Remove URL:\n",
    "    pdf_modified = re.sub(r'http\\S+', ' ', pdf_modified)\n",
    "    # Remove emails:\n",
    "    pdf_modified = re.sub(r\"\\S*@\\S*\\s?\", \"\", pdf_modified)\n",
    "    # Remove everything in brackets & paranthesis:\n",
    "    pdf_modified = re.sub(\"[\\(\\[].*?[\\)\\]]\", \"\", pdf_modified)\n",
    "    # Remove punctuation:\n",
    "    pdf_modified = re.sub(r'[^\\w\\s]', ' ', pdf_modified)\n",
    "    # Remove numbers\n",
    "    pdf_modified = re.sub(r'[0-9]', ' ', pdf_modified)\n",
    "    # Remove HTML tags:\n",
    "    pdf_modified = re.sub(r'[\\x00-\\x08\\x0b\\x0c\\x0e-\\x1f\\x7f-\\xff]', ' ', pdf_modified)\n",
    "    # Remove multiple spacings:\n",
    "    pdf_modified = re.sub(' +', ' ', pdf_modified)\n",
    "    # Return with any unccesssary spaces removed:\n",
    "    return pdf_modified.strip()\n"
   ]
  },
  {
   "cell_type": "code",
   "execution_count": 29,
   "metadata": {},
   "outputs": [],
   "source": [
    "mimic_df[\"clean_sentence\"] = mimic_df.sentence.map(prep_simple)"
   ]
  },
  {
   "attachments": {},
   "cell_type": "markdown",
   "metadata": {},
   "source": [
    "Creating a seperate clean_len column to visualize sentence lengths:"
   ]
  },
  {
   "cell_type": "code",
   "execution_count": 13,
   "metadata": {},
   "outputs": [],
   "source": [
    "mimic_df[\"clean_len\"] = mimic_df.clean_sentence.map(lambda x: len(x.split(\" \")))"
   ]
  },
  {
   "cell_type": "code",
   "execution_count": 1,
   "metadata": {},
   "outputs": [
    {
     "ename": "NameError",
     "evalue": "name 'plt' is not defined",
     "output_type": "error",
     "traceback": [
      "\u001b[1;31m---------------------------------------------------------------------------\u001b[0m",
      "\u001b[1;31mNameError\u001b[0m                                 Traceback (most recent call last)",
      "\u001b[1;32m<ipython-input-1-004d648d12f2>\u001b[0m in \u001b[0;36m<module>\u001b[1;34m\u001b[0m\n\u001b[1;32m----> 1\u001b[1;33m \u001b[0mfig\u001b[0m\u001b[1;33m,\u001b[0m \u001b[0max\u001b[0m \u001b[1;33m=\u001b[0m \u001b[0mplt\u001b[0m\u001b[1;33m.\u001b[0m\u001b[0msubplots\u001b[0m\u001b[1;33m(\u001b[0m\u001b[0mfigsize\u001b[0m\u001b[1;33m=\u001b[0m\u001b[1;33m(\u001b[0m\u001b[1;36m20\u001b[0m\u001b[1;33m,\u001b[0m \u001b[1;36m10\u001b[0m\u001b[1;33m)\u001b[0m\u001b[1;33m)\u001b[0m\u001b[1;33m\u001b[0m\u001b[1;33m\u001b[0m\u001b[0m\n\u001b[0m\u001b[0;32m      2\u001b[0m \u001b[0msns\u001b[0m\u001b[1;33m.\u001b[0m\u001b[0mhistplot\u001b[0m\u001b[1;33m(\u001b[0m\u001b[0mdata\u001b[0m\u001b[1;33m=\u001b[0m\u001b[0mmimic_df\u001b[0m\u001b[1;33m,\u001b[0m \u001b[0mx\u001b[0m\u001b[1;33m=\u001b[0m\u001b[1;34m\"clean_len\"\u001b[0m\u001b[1;33m,\u001b[0m \u001b[0mbinwidth\u001b[0m\u001b[1;33m=\u001b[0m\u001b[1;36m5\u001b[0m\u001b[1;33m,\u001b[0m \u001b[0mkde\u001b[0m\u001b[1;33m=\u001b[0m\u001b[1;32mTrue\u001b[0m\u001b[1;33m,\u001b[0m \u001b[0max\u001b[0m\u001b[1;33m=\u001b[0m\u001b[0max\u001b[0m\u001b[1;33m)\u001b[0m\u001b[1;33m\u001b[0m\u001b[1;33m\u001b[0m\u001b[0m\n\u001b[0;32m      3\u001b[0m \u001b[0mplt\u001b[0m\u001b[1;33m.\u001b[0m\u001b[0mshow\u001b[0m\u001b[1;33m(\u001b[0m\u001b[1;33m)\u001b[0m\u001b[1;33m\u001b[0m\u001b[1;33m\u001b[0m\u001b[0m\n",
      "\u001b[1;31mNameError\u001b[0m: name 'plt' is not defined"
     ]
    }
   ],
   "source": [
    "fig, ax = plt.subplots(figsize=(20, 10))\n",
    "sns.histplot(data=mimic_df, x=\"clean_len\", binwidth=5, kde=True, ax=ax)\n",
    "plt.show()"
   ]
  },
  {
   "attachments": {},
   "cell_type": "markdown",
   "metadata": {},
   "source": [
    "We can see that the majority of the sentences has <50 words. This will guide our decision in the next steps, where we need to decide on the max_length of the tokenizer outputs (with max of 512 due to BERT constraints)"
   ]
  },
  {
   "attachments": {},
   "cell_type": "markdown",
   "metadata": {},
   "source": [
    "### Part 3: Model "
   ]
  },
  {
   "attachments": {},
   "cell_type": "markdown",
   "metadata": {},
   "source": [
    "As this case study is more focused on creating an executible ML pipeline, I will not focus on any model selection or hyperparameter optimization processes and will create a neural network for multiclass classification. Therefore, there is no need for a seperate validation dataset, and will split the dataset into train & test sets only."
   ]
  },
  {
   "cell_type": "code",
   "execution_count": 24,
   "metadata": {},
   "outputs": [],
   "source": [
    "X_train, X_test, y_train, y_test = train_test_split(mimic_df.drop(\"code\", axis=1), mimic_df.code, test_size=.25, stratify=mimic_df.code)"
   ]
  },
  {
   "cell_type": "code",
   "execution_count": 45,
   "metadata": {},
   "outputs": [],
   "source": [
    "ohe = OneHotEncoder(sparse=False)\n",
    "\n",
    "y_train_ohe = ohe.fit_transform(y_train.values.reshape(-1,1))\n",
    "y_test_ohe = ohe.transform(y_test.values.reshape(-1,1))"
   ]
  },
  {
   "attachments": {},
   "cell_type": "markdown",
   "metadata": {},
   "source": [
    "Tokenizing the train & test datasets:\n",
    "- will use max_len = 50 as explained above\n"
   ]
  },
  {
   "cell_type": "code",
   "execution_count": 38,
   "metadata": {},
   "outputs": [],
   "source": [
    "train_tokenized_tf = tokenizer.batch_encode_plus(X_train[\"clean_sentence\"].values.tolist(),\n",
    "    add_special_tokens=True, \n",
    "    return_attention_mask=True, \n",
    "    padding=\"max_length\",\n",
    "    truncation = True,\n",
    "    max_length=50, \n",
    "    return_tensors='tf')"
   ]
  },
  {
   "cell_type": "code",
   "execution_count": 39,
   "metadata": {},
   "outputs": [],
   "source": [
    "test_tokenized_tf = tokenizer.batch_encode_plus(X_test[\"clean_sentence\"].values.tolist(),\n",
    "    add_special_tokens=True, \n",
    "    return_attention_mask=True, \n",
    "    padding=\"max_length\",\n",
    "    truncation = True,\n",
    "    max_length=50, \n",
    "    return_tensors='tf')"
   ]
  },
  {
   "attachments": {},
   "cell_type": "markdown",
   "metadata": {},
   "source": [
    "Alll the variables are now ready for model training & assesment.\n",
    "\n",
    "We need to get the Bio ClinicalBERT embeddings to be used in the following neural network. \n",
    "To do that:\n",
    "\n",
    "1- Use the input ids & attention mask gathered from the tokenizer\n",
    "\n",
    "2- Use the last layer of Bio ClinicalBERT to get the embeddings\n",
    "\n",
    "3- Create a NN to feed the embeddings into\n",
    "\n",
    "4- Have an output layer with 50 neurons, one for each label\n"
   ]
  },
  {
   "cell_type": "code",
   "execution_count": 57,
   "metadata": {},
   "outputs": [],
   "source": [
    "max_len = 50\n",
    "input_ids = Input(shape=(max_len,), dtype=tf.int32, name=\"input_ids\")\n",
    "input_mask = Input(shape=(max_len,), dtype=tf.int32, name=\"attention_mask\")\n",
    "embeddings = model_tf(input_ids,attention_mask = input_mask)[0] \n",
    "out = tf.keras.layers.GlobalMaxPool1D()(embeddings)\n",
    "out = Dense(128, activation='relu')(out)\n",
    "out = tf.keras.layers.Dropout(0.1)(out)\n",
    "out = Dense(32,activation = 'relu')(out)\n",
    "y = Dense(50,activation = 'sigmoid')(out)\n",
    "model = tf.keras.Model(inputs=[input_ids, input_mask], outputs=y)\n",
    "model.layers[2].trainable = True"
   ]
  },
  {
   "attachments": {},
   "cell_type": "markdown",
   "metadata": {},
   "source": [
    "Adam optimizer is chosen as it is reported to be performing quite well for multiclass classification."
   ]
  },
  {
   "cell_type": "code",
   "execution_count": 58,
   "metadata": {},
   "outputs": [],
   "source": [
    "optimizer = Adam(\n",
    "    learning_rate=5e-05, \n",
    "    decay=0.01,\n",
    "    clipnorm=1.0)\n",
    "# Set loss and metrics\n",
    "loss =CategoricalCrossentropy(from_logits = True)\n",
    "metric = CategoricalAccuracy('balanced_accuracy'),\n",
    "# Compile the model\n",
    "model.compile(\n",
    "    optimizer = optimizer,\n",
    "    loss = loss, \n",
    "    metrics = metric)\n",
    "\n",
    "callback_early_stopping = EarlyStopping(monitor='balanced_accuracy',\n",
    "                                        patience=3, verbose=1)"
   ]
  },
  {
   "attachments": {},
   "cell_type": "markdown",
   "metadata": {},
   "source": [
    "The model is now compiled and ready for training."
   ]
  },
  {
   "cell_type": "code",
   "execution_count": 59,
   "metadata": {},
   "outputs": [
    {
     "name": "stderr",
     "output_type": "stream",
     "text": [
      "c:\\Users\\oguzk\\anaconda3\\lib\\site-packages\\tensorflow\\python\\util\\dispatch.py:1082: UserWarning: \"`categorical_crossentropy` received `from_logits=True`, but the `output` argument was produced by a sigmoid or softmax activation and thus does not represent logits. Was this intended?\"\n",
      "  return dispatch_target(*args, **kwargs)\n"
     ]
    },
    {
     "name": "stdout",
     "output_type": "stream",
     "text": [
      "WARNING:tensorflow:Gradients do not exist for variables ['tf_bert_model/bert/pooler/dense/kernel:0', 'tf_bert_model/bert/pooler/dense/bias:0'] when minimizing the loss. If you're using `model.compile()`, did you forget to provide a `loss`argument?\n",
      "WARNING:tensorflow:Gradients do not exist for variables ['tf_bert_model/bert/pooler/dense/kernel:0', 'tf_bert_model/bert/pooler/dense/bias:0'] when minimizing the loss. If you're using `model.compile()`, did you forget to provide a `loss`argument?\n",
      "6077/6077 [==============================] - 22064s 4s/step - loss: 0.8712 - balanced_accuracy: 0.8329 - val_loss: 0.6004 - val_balanced_accuracy: 0.8806\n"
     ]
    }
   ],
   "source": [
    "train_history = model.fit(\n",
    "    x ={'input_ids':train_tokenized_tf['input_ids'],'attention_mask':train_tokenized_tf['attention_mask']} ,\n",
    "    y = y_train_ohe,\n",
    "    validation_data = (\n",
    "    {'input_ids':test_tokenized_tf['input_ids'],'attention_mask':test_tokenized_tf['attention_mask']}, y_test_ohe\n",
    "    ),\n",
    "  epochs=1,\n",
    "  batch_size=10,\n",
    "\n",
    ")"
   ]
  },
  {
   "attachments": {},
   "cell_type": "markdown",
   "metadata": {},
   "source": [
    "The model has an accuracy of .83 on the training dataset and an accuracy of .88 for the test dataset. These initial results are quite satisfactory as they are above the initial target of .75. \n",
    "\n",
    "However, as the EarlyStopping callback was not used, we can assume that the model training was not fully complete and the model hasn't converged yet."
   ]
  },
  {
   "cell_type": "code",
   "execution_count": 60,
   "metadata": {},
   "outputs": [],
   "source": [
    "# Saving the model:\n",
    "model.save('my_model.h5')\n"
   ]
  },
  {
   "cell_type": "code",
   "execution_count": 61,
   "metadata": {},
   "outputs": [],
   "source": [
    "# Creating a y_pred variable for a more detailed model assesment.\n",
    "y_pred_raw = model.predict({'input_ids':test_tokenized_tf['input_ids'],'attention_mask':test_tokenized_tf['attention_mask']})\n",
    "y_pred = np.argmax(y_pred_raw, axis = 1)\n",
    "\n",
    "y_test = np.argmax(y_test_ohe, axis = 1)"
   ]
  },
  {
   "attachments": {},
   "cell_type": "markdown",
   "metadata": {},
   "source": [
    "### Part 4: Model Evaluation"
   ]
  },
  {
   "cell_type": "code",
   "execution_count": 74,
   "metadata": {},
   "outputs": [],
   "source": [
    "with open('y_test_ohe', 'wb') as handle:\n",
    "    pickle.dump(y_test_ohe, handle, )\n",
    "\n",
    "with open('y_pred_raw', 'wb') as handle:\n",
    "    pickle.dump(y_pred_raw, handle)"
   ]
  },
  {
   "cell_type": "code",
   "execution_count": 79,
   "metadata": {},
   "outputs": [],
   "source": [
    "# Inverse transforming the results:\n",
    "y_test_inv = ohe.inverse_transform(y_test_ohe)\n",
    "y_pred_inv = ohe.inverse_transform(y_pred_raw)"
   ]
  },
  {
   "cell_type": "code",
   "execution_count": 85,
   "metadata": {},
   "outputs": [
    {
     "name": "stderr",
     "output_type": "stream",
     "text": [
      "c:\\Users\\oguzk\\anaconda3\\lib\\site-packages\\sklearn\\metrics\\_classification.py:1248: UndefinedMetricWarning: Precision and F-score are ill-defined and being set to 0.0 in labels with no predicted samples. Use `zero_division` parameter to control this behavior.\n",
      "  _warn_prf(average, modifier, msg_start, len(result))\n",
      "c:\\Users\\oguzk\\anaconda3\\lib\\site-packages\\sklearn\\metrics\\_classification.py:1248: UndefinedMetricWarning: Precision and F-score are ill-defined and being set to 0.0 in labels with no predicted samples. Use `zero_division` parameter to control this behavior.\n",
      "  _warn_prf(average, modifier, msg_start, len(result))\n"
     ]
    },
    {
     "name": "stdout",
     "output_type": "stream",
     "text": [
      "              precision    recall  f1-score   support\n",
      "\n",
      "        A419       0.93      0.95      0.94       631\n",
      "        B182       0.88      0.87      0.87       514\n",
      "        C787       0.14      0.05      0.07        20\n",
      "       C7931       0.93      0.98      0.95       342\n",
      "        D696       0.90      0.95      0.93       567\n",
      "        E039       0.85      0.75      0.80       703\n",
      "        E119       0.72      0.78      0.75       771\n",
      "         E46       0.85      0.89      0.87       181\n",
      "       E6601       0.92      0.93      0.93       494\n",
      "        E780       0.76      0.93      0.84      1012\n",
      "       F0280       0.92      0.91      0.91       675\n",
      "      F10239       0.98      0.94      0.96       628\n",
      "        F319       0.84      0.86      0.85       242\n",
      "        F329       0.00      0.00      0.00        11\n",
      "        F341       0.00      0.00      0.00         1\n",
      "        G936       0.99      0.96      0.98       330\n",
      "         I10       0.80      0.63      0.71       590\n",
      "        I129       0.00      0.00      0.00        99\n",
      "        I200       0.92      0.90      0.91       136\n",
      "        I214       0.74      0.49      0.59       189\n",
      "       I25.2       0.79      0.82      0.80       426\n",
      "       I2510       0.63      0.62      0.62       186\n",
      "       I2699       0.98      0.73      0.84        56\n",
      "        I469       0.97      0.95      0.96      1082\n",
      "        I472       0.88      0.95      0.91       435\n",
      "       I4891       0.89      0.86      0.87       744\n",
      "        I509       0.86      0.87      0.86       503\n",
      "        I609       0.96      1.00      0.98       824\n",
      "        I619       0.97      0.88      0.93       156\n",
      "       I6350       0.93      0.81      0.86       126\n",
      "       I6529       0.90      0.94      0.92       406\n",
      "        I714       0.87      0.91      0.89       254\n",
      "        I739       0.77      0.57      0.65       155\n",
      "      J15211       0.86      0.90      0.88       315\n",
      "        J449       0.79      0.82      0.80       308\n",
      "        J690       1.00      0.11      0.20        46\n",
      "         J80       0.97      0.92      0.94       346\n",
      "       J9620       0.95      0.92      0.94       637\n",
      "        K219       0.75      0.73      0.74       312\n",
      "       K7030       0.90      0.94      0.92       571\n",
      "        K766       0.91      0.94      0.93       418\n",
      "        M069       0.92      0.87      0.90       253\n",
      "        M810       0.85      0.87      0.86       498\n",
      "        N179       0.53      0.61      0.57        44\n",
      "        N186       0.92      0.97      0.95       604\n",
      "        N189       0.63      0.80      0.70       239\n",
      "        R569       0.83      0.53      0.65        38\n",
      "        R570       0.91      0.97      0.94       674\n",
      "      R65.21       0.97      0.91      0.94       644\n",
      "       Z79.4       0.98      0.98      0.98       821\n",
      "\n",
      "    accuracy                           0.88     20257\n",
      "   macro avg       0.80      0.77      0.78     20257\n",
      "weighted avg       0.88      0.88      0.88     20257\n",
      "\n"
     ]
    },
    {
     "name": "stderr",
     "output_type": "stream",
     "text": [
      "c:\\Users\\oguzk\\anaconda3\\lib\\site-packages\\sklearn\\metrics\\_classification.py:1248: UndefinedMetricWarning: Precision and F-score are ill-defined and being set to 0.0 in labels with no predicted samples. Use `zero_division` parameter to control this behavior.\n",
      "  _warn_prf(average, modifier, msg_start, len(result))\n"
     ]
    }
   ],
   "source": [
    "print(classification_report(y_test_inv, y_pred_inv))"
   ]
  },
  {
   "attachments": {},
   "cell_type": "markdown",
   "metadata": {},
   "source": [
    "The classification report gives more detail regarding the model predictions. \n",
    "\n",
    "The overall accuracy score on the test set is again 88%. It can also be seen that the model is quite accurate for highly represented codes (labels), but not so accurate when it comes to labels with low representation in the dataset, also can be observed from the macro average scores."
   ]
  },
  {
   "attachments": {},
   "cell_type": "markdown",
   "metadata": {},
   "source": [
    "We can also utilize an ROC-AUC to analyze the results.\n",
    "\n",
    "In a multi-class classification setup with highly imbalanced classes, micro-averaging is preferable over macro-averaging. \n",
    "(from: https://scikit-learn.org/stable/auto_examples/model_selection/plot_roc.html)\n",
    "\n",
    "The micro-averaged ROC graph can be seen below:"
   ]
  },
  {
   "cell_type": "code",
   "execution_count": null,
   "metadata": {},
   "outputs": [
    {
     "data": {
      "image/png": "[encoded data removed]",
      "text/plain": [
       "<Figure size 576x576 with 1 Axes>"
      ]
     },
     "metadata": {},
     "output_type": "display_data"
    }
   ],
   "source": [
    "fig, ax = plt.subplots(figsize=(8, 8))\n",
    "\n",
    "RocCurveDisplay.from_predictions(\n",
    "    y_test_ohe.ravel(),\n",
    "    predicted_raw.ravel(),\n",
    "    name=\"micro-average OvR\",\n",
    "    color=\"darkorange\",\n",
    "    ax=ax\n",
    ")\n",
    "plt.plot([0, 1], [0, 1], \"k--\", label=\"chance level (AUC = 0.5)\")\n",
    "plt.axis(\"square\")\n",
    "plt.xlabel(\"False Positive Rate\")\n",
    "plt.ylabel(\"True Positive Rate\")\n",
    "plt.title(\"Micro-averaged One-vs-Rest\\nReceiver Operating Characteristic\")\n",
    "plt.legend()\n",
    "plt.show()"
   ]
  },
  {
   "attachments": {},
   "cell_type": "markdown",
   "metadata": {},
   "source": [
    "The graph also confirms the classification report findings. The model is performing well above a random selection (in the case of one-vs-rest) and is satisfactory to our initial targets. "
   ]
  },
  {
   "attachments": {},
   "cell_type": "markdown",
   "metadata": {},
   "source": [
    "### Part 5: Limitations & Future Steps"
   ]
  },
  {
   "attachments": {},
   "cell_type": "markdown",
   "metadata": {},
   "source": [
    "This project can be further improved by testing different models & NN architectures for more accurate results. \"balanced-accuracy\" was used as the metric during compiling but this can be changed according to business needs, especially if predicting certain (more represented) labels is more important than others.\n",
    "\n",
    "Additionally, as also mentioned above the model can perform better with more epochs or time in general. Using additional layers & hyperparameter optimization can improve the results & give an accuracy of > 90% "
   ]
  }
 ],
 "metadata": {
  "kernelspec": {
   "display_name": "base",
   "language": "python",
   "name": "python3"
  },
  "language_info": {
   "codemirror_mode": {
    "name": "ipython",
    "version": 3
   },
   "file_extension": ".py",
   "mimetype": "text/x-python",
   "name": "python",
   "nbconvert_exporter": "python",
   "pygments_lexer": "ipython3",
   "version": "3.8.10 (default, May 19 2021, 13:12:57) [MSC v.1916 64 bit (AMD64)]"
  },
  "orig_nbformat": 4,
  "vscode": {
   "interpreter": {
    "hash": "6d6808e9ba8815475743150367720cad3673ac2b3f4957dc753295ba7ac37a1a"
   }
  }
 },
 "nbformat": 4,
 "nbformat_minor": 2
}
